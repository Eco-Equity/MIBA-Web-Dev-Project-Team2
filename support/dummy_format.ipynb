{
 "cells": [
  {
   "cell_type": "code",
   "execution_count": 28,
   "metadata": {},
   "outputs": [],
   "source": [
    "import pandas as pd\n",
    "prods = pd.read_excel('dummy_data.xlsx', sheet_name='prods')\n",
    "trans = pd.read_excel('dummy_data.xlsx', sheet_name='TA')\n",
    "customer = pd.read_excel('dummy_data.xlsx', sheet_name='customer')\n",
    "focus = pd.read_excel('dummy_data.xlsx', sheet_name='focus')"
   ]
  },
  {
   "cell_type": "code",
   "execution_count": null,
   "metadata": {},
   "outputs": [],
   "source": [
    "prods['text'] = prods.apply(lambda row: (row['prod_id'], row['name'], row['country'], row['price'], row['n_shares'], row['focus'],\n",
    "                                         row['completion'].strftime('%Y-%m-%d'), row['risk']), axis=1)\n",
    "                                           \n",
    "for i in prods['text']:\n",
    "    print(i, ',')"
   ]
  },
  {
   "cell_type": "code",
   "execution_count": null,
   "metadata": {},
   "outputs": [],
   "source": [
    "trans['text'] = trans.apply(lambda row: (row['tran_id'], row['prod_id'], row['cust_id'], row['amount'], row['buy/sell']), axis=1)\n",
    "                                           \n",
    "for i in prods['text']:\n",
    "    print(i, ',')\n"
   ]
  },
  {
   "cell_type": "code",
   "execution_count": 32,
   "metadata": {},
   "outputs": [
    {
     "name": "stdout",
     "output_type": "stream",
     "text": [
      "(1, 'James', 'Gonzalez', 'James.Gonzalez@eco_mail.com', '1976-01-21', 123123, 'Switzerland', '2021-10-22') ,\n",
      "(2, 'Mia', 'Lopez', 'Mia.Lopez@eco_mail.com', '1974-06-24', '123abc', 'Switzerland', '2018-03-21') ,\n",
      "(3, 'Charlotte', 'Wilson', 'Charlotte.Wilson@eco_mail.com', '1971-03-02', 'monkey', 'Switzerland', '2022-07-15') ,\n",
      "(4, 'Henry', 'Anderson', 'Henry.Anderson@eco_mail.com', '1964-08-26', 'sunshine', 'Switzerland', '2018-03-10') ,\n",
      "(5, 'Benjamin', 'Jones', 'Benjamin.Jones@eco_mail.com', '1972-05-26', 111111, 'Spain', '2021-11-29') ,\n",
      "(6, 'Ethan', 'Smith', 'Ethan.Smith@eco_mail.com', '1966-09-15', 123456, 'Spain', '2020-03-24') ,\n",
      "(7, 'Ava', 'Brown', 'Ava.Brown@eco_mail.com', '1967-03-31', 'abc123', 'Spain', '2019-07-19') ,\n",
      "(8, 'Emma', 'Miller', 'Emma.Miller@eco_mail.com', '1960-01-04', 'admin', 'Spain', '2021-07-14') ,\n",
      "(9, 'Noah', 'Davis', 'Noah.Davis@eco_mail.com', '1989-12-27', 'letmein', 'Spain', '2019-11-12') ,\n",
      "(10, 'Olivia', 'Johnson', 'Olivia.Johnson@eco_mail.com', '1992-12-09', 'password', 'Spain', '2020-02-01') ,\n",
      "(11, 'Liam', 'Williams', 'Liam.Williams@eco_mail.com', '1955-06-30', 'qwerty', 'Spain', '2019-08-04') ,\n",
      "(12, 'Michael', 'Taylor', 'Michael.Taylor@eco_mail.com', '1959-09-01', 1234, 'Italy', '2022-11-27') ,\n",
      "(13, 'Amelia', 'Thomas', 'Amelia.Thomas@eco_mail.com', '1974-04-29', 12345, 'Italy', '2019-12-02') ,\n",
      "(14, 'Daniel', 'Jackson', 'Daniel.Jackson@eco_mail.com', '1987-07-17', 'baseball', 'Italy', '2018-02-24') ,\n",
      "(15, 'Harper', 'Moore', 'Harper.Moore@eco_mail.com', '1954-10-25', 'football', 'Italy', '2017-12-16') ,\n",
      "(16, 'Emily', 'Lewis', 'Emily.Lewis@eco_mail.com', '1991-10-13', 555555, 'Germany', '2022-11-26') ,\n",
      "(17, 'Evelyn', 'Thompson', 'Evelyn.Thompson@eco_mail.com', '1958-06-27', 1234567890, 'Germany', '2020-05-30') ,\n",
      "(18, 'Jacob', 'White', 'Jacob.White@eco_mail.com', '2000-03-01', 'dragon', 'Germany', '2020-08-15') ,\n",
      "(19, 'Abigail', 'Harris', 'Abigail.Harris@eco_mail.com', '1968-08-13', 'master', 'Germany', '2020-04-21') ,\n",
      "(20, 'Matthew', 'Young', 'Matthew.Young@eco_mail.com', '1974-03-10', 'passw0rd', 'Germany', '2018-01-17') ,\n",
      "(21, 'Samuel', 'Clark', 'Samuel.Clark@eco_mail.com', '1957-08-30', 'superman', 'Germany', '2021-06-22') ,\n",
      "(22, 'Alexander', 'Rodriguez', 'Alexander.Rodriguez@eco_mail.com', '2003-04-21', 1234567, 'France', '2022-12-31') ,\n",
      "(23, 'Isabella', 'Martinez', 'Isabella.Martinez@eco_mail.com', '1994-06-02', 12345678, 'France', '2022-06-23') ,\n",
      "(24, 'Sophia', 'Garcia', 'Sophia.Garcia@eco_mail.com', '1965-01-06', 123456789, 'France', '2021-07-29') ,\n",
      "(25, 'William', 'Hernandez', 'William.Hernandez@eco_mail.com', '1998-02-07', 'welcome', 'France', '2022-06-29') ,\n",
      "(26, 'Avery', 'Green', 'Avery.Green@eco_mail.com', '1960-04-11', 123, 'Switzerland', '2018-10-11') ,\n",
      "(27, 'Caleb', 'Parker', 'Caleb.Parker@eco_mail.com', '1957-01-03', 121212, 'Switzerland', '2019-01-18') ,\n",
      "(28, 'Ryan', 'Morris', 'Ryan.Morris@eco_mail.com', '1994-12-31', 888888, 'Switzerland', '2022-03-18') ,\n",
      "(29, 'Scarlett', 'Carter', 'Scarlett.Carter@eco_mail.com', '2001-06-28', 999999, 'Switzerland', '2020-11-07') ,\n",
      "(30, 'Chloe', 'Turner', 'Chloe.Turner@eco_mail.com', '1967-12-10', 7777777, 'Spain', '2022-10-07') ,\n",
      "(31, 'Stella', 'Cook', 'Stella.Cook@eco_mail.com', '1972-03-23', 11111111, 'Spain', '2017-10-20') ,\n",
      "(32, 'Andrew', 'Adams', 'Andrew.Adams@eco_mail.com', '1982-12-17', 987654321, 'Spain', '2019-06-20') ,\n",
      "(33, 'Nathan', 'Stewart', 'Nathan.Stewart@eco_mail.com', '1959-02-13', 9876543210, 'Spain', '2018-11-25') ,\n",
      "(34, 'Joseph', 'King', 'Joseph.King@eco_mail.com', '1996-04-24', 12345678910, 'Spain', '2022-05-20') ,\n",
      "(35, 'Jack', 'Hill', 'Jack.Hill@eco_mail.com', '1990-07-25', '1q2w3e4r', 'Spain', '2023-03-10') ,\n",
      "(36, 'Gabriel', 'Mitchell', 'Gabriel.Mitchell@eco_mail.com', '1999-10-30', 'abcd1234', 'Spain', '2019-01-11') ,\n",
      "(37, 'Christopher', 'Roberts', 'Christopher.Roberts@eco_mail.com', '2001-03-12', 'asdfgh', 'Italy', '2019-01-13') ,\n",
      "(38, 'Victoria', 'Campbell', 'Victoria.Campbell@eco_mail.com', '1996-02-12', 'batman', 'Italy', '2019-03-09') ,\n",
      "(39, 'Elizabeth', 'Hall', 'Elizabeth.Hall@eco_mail.com', '1966-11-12', 'hello', 'Italy', '2019-10-14') ,\n",
      "(40, 'Sofia', 'Wright', 'Sofia.Wright@eco_mail.com', '1986-12-08', 'iloveyou', 'Italy', '2022-07-23') ,\n",
      "(41, 'Ella', 'Baker', 'Ella.Baker@eco_mail.com', '1986-06-17', 'letmeout', 'Germany', '2018-05-22') ,\n",
      "(42, 'Penelope', 'Sanchez', 'Penelope.Sanchez@eco_mail.com', '1986-06-06', 'pass123', 'Germany', '2018-09-06') ,\n",
      "(43, 'David', 'Scott', 'David.Scott@eco_mail.com', '1980-01-02', 'princess', 'Germany', '2018-05-07') ,\n",
      "(44, 'Grace', 'Perez', 'Grace.Perez@eco_mail.com', '1982-11-12', 'qazwsx', 'Germany', '2019-02-23') ,\n",
      "(45, 'Samuel', 'Edwards', 'Samuel.Edwards@eco_mail.com', '1959-08-04', 'shadow', 'Germany', '2020-01-31') ,\n",
      "(46, 'Zoey', 'Collins', 'Zoey.Collins@eco_mail.com', '2002-06-28', 'soccer', 'Germany', '2018-01-08') ,\n",
      "(47, 'Isaac', 'Reed', 'Isaac.Reed@eco_mail.com', '1963-04-01', 'starwars', 'France', '2018-04-27') ,\n",
      "(48, 'Hannah', 'Rogers', 'Hannah.Rogers@eco_mail.com', '1994-09-04', 'summer', 'France', '2022-03-03') ,\n",
      "(49, 'Joshua', 'Phillips', 'Joshua.Phillips@eco_mail.com', '1997-05-24', 'trustno1', 'France', '2022-02-08') ,\n",
      "(50, 'Lily', 'Evans', 'Lily.Evans@eco_mail.com', '1990-05-14', 'whatever', 'France', '2023-02-21') ,\n"
     ]
    }
   ],
   "source": [
    "customer['text'] = customer.apply(lambda row: (row['cust_id'], row['firstname'], row['lastname'], row['mail'],\n",
    "                                         row['DOB'].strftime('%Y-%m-%d'), row['password'],row['location'],row['member_since'].strftime('%Y-%m-%d')), axis=1)\n",
    "                                           \n",
    "for i in customer['text']:\n",
    "    print(i, ',')"
   ]
  },
  {
   "cell_type": "code",
   "execution_count": 34,
   "metadata": {},
   "outputs": [
    {
     "name": "stdout",
     "output_type": "stream",
     "text": [
      "(1, 'green_liv_focus') ,\n",
      "(2, 'agric_focus') ,\n",
      "(3, 'high_tech_focus') ,\n",
      "(4, 'renew_focus') ,\n",
      "(5, 'recycling') ,\n"
     ]
    }
   ],
   "source": [
    "focus['text'] = focus.apply(lambda row: (row['focus_id'], row['focus']), axis=1)\n",
    "                                           \n",
    "for i in focus['text']:\n",
    "    print(i, ',')"
   ]
  }
 ],
 "metadata": {
  "kernelspec": {
   "display_name": "Python 3",
   "language": "python",
   "name": "python3"
  },
  "language_info": {
   "codemirror_mode": {
    "name": "ipython",
    "version": 3
   },
   "file_extension": ".py",
   "mimetype": "text/x-python",
   "name": "python",
   "nbconvert_exporter": "python",
   "pygments_lexer": "ipython3",
   "version": "3.11.3"
  },
  "orig_nbformat": 4
 },
 "nbformat": 4,
 "nbformat_minor": 2
}
