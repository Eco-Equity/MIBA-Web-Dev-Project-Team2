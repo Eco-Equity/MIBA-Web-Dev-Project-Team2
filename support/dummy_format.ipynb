{
 "cells": [
  {
   "cell_type": "code",
   "execution_count": 4,
   "metadata": {},
   "outputs": [],
   "source": [
    "import pandas as pd\n",
    "prods = pd.read_excel('dummy_data.xlsx', sheet_name='prods')\n",
    "trans = pd.read_excel('dummy_data.xlsx', sheet_name='TA')\n",
    "customer = pd.read_excel('dummy_data.xlsx', sheet_name='customer')\n",
    "focus = pd.read_excel('dummy_data.xlsx', sheet_name='focus')"
   ]
  },
  {
   "cell_type": "code",
   "execution_count": 5,
   "metadata": {},
   "outputs": [
    {
     "name": "stdout",
     "output_type": "stream",
     "text": [
      "(1, 'Bio Farming France 1', 'France', 600, 314, 1, '2030-05-05', 0.6) ,\n",
      "(2, 'Bio Farming Italy 1', 'Italy', 300, 665, 1, '2031-05-01', 0.7) ,\n",
      "(3, 'Bio Farming Spain 1', 'Spain', 900, 808, 1, '2027-02-05', 0.8) ,\n",
      "(4, 'CO2 Extractor Estonia', 'Estonia', 500, 225, 2, '2025-06-02', 0.7) ,\n",
      "(5, 'Green Buildings Berlin 1', 'Germany', 200, 512, 3, '2030-08-03', 0.6) ,\n",
      "(6, 'Green Buildings Berlin 2', 'Germany', 1000, 475, 3, '2025-02-25', 0.3) ,\n",
      "(7, 'Offshore Wind Park France 1', 'France', 800, 740, 4, '2025-09-22', 0.2) ,\n",
      "(8, 'Offshore Wind Park Portugal 1', 'Portugal', 900, 917, 4, '2029-10-05', 0.3) ,\n",
      "(9, 'Offshore Wind Park Portugal 2', 'Portugal', 700, 582, 4, '2026-05-14', 0.6) ,\n",
      "(10, 'Solar Energy Farm Switzerland 1', 'Switzerland', 800, 738, 4, '2027-02-05', 0.7) ,\n",
      "(11, 'Solar Energy Farm Switzerland 2', 'Switzerland', 700, 427, 4, '2030-12-19', 0.8) ,\n",
      "(12, 'Water energy France 1', 'France', 1000, 254, 4, '2031-04-05', 0.4) ,\n",
      "(13, 'Water energy Italy 1', 'Italy', 800, 397, 4, '2025-07-10', 0.7) ,\n",
      "(14, 'Water energy Italy 2', 'Italy', 900, 567, 4, '2031-04-18', 0.3) ,\n",
      "(15, 'Water energy Switzerland 1', 'Switzerland', 200, 358, 4, '2029-05-14', 0.5) ,\n",
      "(16, 'Wind Park Italy 1', 'Italy', 400, 804, 4, '2029-02-04', 0.3) ,\n",
      "(17, 'Wind Park Spain 1', 'Spain', 800, 667, 4, '2026-02-28', 0.3) ,\n",
      "(18, 'EV Spain 1', 'Spain', 700, 759, 4, '2027-02-14', 0.4) ,\n",
      "(19, 'EV Spain 2', 'Spain', 500, 771, 4, '2027-06-08', 0.7) ,\n",
      "(20, 'EV Italy 1', 'Italy', 100, 437, 4, '2028-04-13', 0.7) ,\n",
      "(21, 'EV Germany 1', 'Germany', 900, 328, 4, '2029-06-29', 0.5) ,\n",
      "(22, 'Waste Management and Recycling Germany 1', 'Germany', 600, 687, 5, '2025-04-08', 0.7) ,\n"
     ]
    }
   ],
   "source": [
    "prods['text'] = prods.apply(lambda row: (row['prod_id'], row['name'], row['country'], row['price'], row['n_shares'], row['focus'],\n",
    "                                         row['completion'].strftime('%Y-%m-%d'), row['risk']), axis=1)\n",
    "                                           \n",
    "for i in prods['text']:\n",
    "    print(i, ',')"
   ]
  },
  {
   "cell_type": "code",
   "execution_count": 6,
   "metadata": {},
   "outputs": [
    {
     "name": "stdout",
     "output_type": "stream",
     "text": [
      "(1, 'Bio Farming France 1', 'France', 600, 314, 1, '2030-05-05', 0.6) ,\n",
      "(2, 'Bio Farming Italy 1', 'Italy', 300, 665, 1, '2031-05-01', 0.7) ,\n",
      "(3, 'Bio Farming Spain 1', 'Spain', 900, 808, 1, '2027-02-05', 0.8) ,\n",
      "(4, 'CO2 Extractor Estonia', 'Estonia', 500, 225, 2, '2025-06-02', 0.7) ,\n",
      "(5, 'Green Buildings Berlin 1', 'Germany', 200, 512, 3, '2030-08-03', 0.6) ,\n",
      "(6, 'Green Buildings Berlin 2', 'Germany', 1000, 475, 3, '2025-02-25', 0.3) ,\n",
      "(7, 'Offshore Wind Park France 1', 'France', 800, 740, 4, '2025-09-22', 0.2) ,\n",
      "(8, 'Offshore Wind Park Portugal 1', 'Portugal', 900, 917, 4, '2029-10-05', 0.3) ,\n",
      "(9, 'Offshore Wind Park Portugal 2', 'Portugal', 700, 582, 4, '2026-05-14', 0.6) ,\n",
      "(10, 'Solar Energy Farm Switzerland 1', 'Switzerland', 800, 738, 4, '2027-02-05', 0.7) ,\n",
      "(11, 'Solar Energy Farm Switzerland 2', 'Switzerland', 700, 427, 4, '2030-12-19', 0.8) ,\n",
      "(12, 'Water energy France 1', 'France', 1000, 254, 4, '2031-04-05', 0.4) ,\n",
      "(13, 'Water energy Italy 1', 'Italy', 800, 397, 4, '2025-07-10', 0.7) ,\n",
      "(14, 'Water energy Italy 2', 'Italy', 900, 567, 4, '2031-04-18', 0.3) ,\n",
      "(15, 'Water energy Switzerland 1', 'Switzerland', 200, 358, 4, '2029-05-14', 0.5) ,\n",
      "(16, 'Wind Park Italy 1', 'Italy', 400, 804, 4, '2029-02-04', 0.3) ,\n",
      "(17, 'Wind Park Spain 1', 'Spain', 800, 667, 4, '2026-02-28', 0.3) ,\n",
      "(18, 'EV Spain 1', 'Spain', 700, 759, 4, '2027-02-14', 0.4) ,\n",
      "(19, 'EV Spain 2', 'Spain', 500, 771, 4, '2027-06-08', 0.7) ,\n",
      "(20, 'EV Italy 1', 'Italy', 100, 437, 4, '2028-04-13', 0.7) ,\n",
      "(21, 'EV Germany 1', 'Germany', 900, 328, 4, '2029-06-29', 0.5) ,\n",
      "(22, 'Waste Management and Recycling Germany 1', 'Germany', 600, 687, 5, '2025-04-08', 0.7) ,\n"
     ]
    }
   ],
   "source": [
    "trans['text'] = trans.apply(lambda row: (row['tran_id'], row['prod_id'], row['cust_id'], row['amount'], row['buy/sell']), axis=1)\n",
    "                                           \n",
    "for i in prods['text']:\n",
    "    print(i, ',')\n"
   ]
  },
  {
   "cell_type": "code",
   "execution_count": 11,
   "metadata": {},
   "outputs": [
    {
     "data": {
      "text/plain": [
       "Index(['cust_id', 'firstname', 'lastname', 'username', 'gender',\n",
       "       'phone_number', 'street', 'street_number', 'compl_adr_info', 'city',\n",
       "       'zip_code', 'mail', 'DOB', 'password', 'nationality', 'member_since'],\n",
       "      dtype='object')"
      ]
     },
     "execution_count": 11,
     "metadata": {},
     "output_type": "execute_result"
    }
   ],
   "source": [
    "customer.columns"
   ]
  },
  {
   "cell_type": "code",
   "execution_count": 5,
   "metadata": {},
   "outputs": [
    {
     "name": "stdout",
     "output_type": "stream",
     "text": [
      "(22, 'James', 'Rodriguez', 'JSmith', 'm', '(347) 555-1212', 'Main Street', 77, '-', 'Paris', 3130, 'James.Rodriguez@ecomail.com', '1983-10-29', 1234567, 'France', '2021-12-14') ,\n",
      "(23, 'John', 'Martinez', 'MaxPower', 'm', '(212) 555-9876', 'Maple Avenue', 17, '-', 'Marseille', 4396, 'John.Martinez@ecomail.com', '2001-08-17', 12345678, 'France', '2018-06-18') ,\n",
      "(24, 'Robert', 'Garcia', 'CoolDude87', 'm', '(415) 555-5555', 'Oak Street', 84, '-', 'Lyon', 3141, 'Robert.Garcia@ecomail.com', '1974-03-02', 123456789, 'France', '2021-09-08') ,\n",
      "(25, 'Michael', 'Hernandez', 'NinjaWarrior', 'm', '(713) 555-1234', 'Elm Street', 78, '-', 'Toulouse', 1116, 'Michael.Hernandez@ecomail.com', '1970-12-28', 'welcome', 'France', '2020-06-24') ,\n",
      "(47, 'William', 'Reed', 'GamerGuy23', 'm', '(602) 555-8888', 'Pine Lane', 31, '-', 'Nice', 2268, 'William.Reed@ecomail.com', '2002-09-30', 'starwars', 'France', '2019-12-20') ,\n",
      "(48, 'David', 'Rogers', 'TechGuru', 'm', '(305) 555-0101', 'Cedar Road', 41, '-', 'Nantes', 2539, 'David.Rogers@ecomail.com', '1955-04-02', 'summer', 'France', '2021-10-20') ,\n",
      "(49, 'Joseph', 'Phillips', 'SportsFanatic', 'm', '(404) 555-5555', 'Walnut Street', 70, '-', 'Strasbourg', 1995, 'Joseph.Phillips@ecomail.com', '2001-09-28', 'trustno1', 'France', '2017-10-31') ,\n",
      "(50, 'Charles', 'Evans', 'MusicManiac', 'm', '(503) 555-1234', 'Birch Avenue', 16, '-', 'Bordeaux', 2566, 'Charles.Evans@ecomail.com', '1963-03-30', 'whatever', 'France', '2023-02-05') ,\n",
      "(16, 'Thomas', 'Lewis', 'AdventureSeeker', 'm', '(770) 555-4321', 'Cherry Lane', 3, '-', 'Berlin', 4450, 'Thomas.Lewis@ecomail.com', '1958-07-24', 555555, 'Germany', '2018-09-04') ,\n",
      "(17, 'Daniel', 'Thompson', 'MrExplorer', 'm', '(619) 555-7777', 'Willow Road', 76, '-', 'Hamburg', 2018, 'Daniel.Thompson@ecomail.com', '1956-11-28', 1234567890, 'Germany', '2019-02-01') ,\n",
      "(18, 'Matthew', 'White', 'SportsHero', 'm', '(415) 555-2468', 'Magnolia Drive', 68, '-', 'Munich', 4266, 'Matthew.White@ecomail.com', '1955-02-14', 'dragon', 'Germany', '2018-08-09') ,\n",
      "(19, 'Anthony', 'Harris', 'TechWhiz', 'm', '(202) 555-5678', 'Sycamore Avenue', 47, '-', 'Cologne', 2142, 'Anthony.Harris@ecomail.com', '1974-03-13', 'master', 'Germany', '2020-01-22') ,\n",
      "(20, 'Mark', 'Young', 'CaptainAwesome', 'm', '(713) 555-8765', 'Ash Street', 82, '-', 'Frankfurt', 2795, 'Mark.Young@ecomail.com', '1963-12-12', 'passw0rd', 'Germany', '2021-03-27') ,\n",
      "(21, 'Donald', 'Clark', 'ProGamer99', 'm', '(602) 555-7890', 'Poplar Lane', 7, '-', 'Stuttgart', 1952, 'Donald.Clark@ecomail.com', '1999-10-10', 'superman', 'Germany', '2018-12-21') ,\n",
      "(41, 'Steven', 'Baker', 'TechGeek', 'm', '(305) 555-4321', 'Cypress Road', 49, '-', 'Düsseldorf', 4858, 'Steven.Baker@ecomail.com', '1988-07-16', 'letmeout', 'Germany', '2022-11-18') ,\n",
      "(42, 'Andrew', 'Sanchez', 'SportsJunkie', 'm', '(404) 555-9876', 'Chestnut Avenue', 42, '-', 'Dortmund', 1284, 'Andrew.Sanchez@ecomail.com', '1982-01-11', 'pass123', 'Germany', '2018-07-05') ,\n",
      "(43, 'Kenneth', 'Scott', 'RockStar87', 'm', '(503) 555-6543', 'Spruce Street', 55, '-', 'Essen', 4517, 'Kenneth.Scott@ecomail.com', '1995-09-21', 'princess', 'Germany', '2022-01-31') ,\n",
      "(44, 'George', 'Perez', 'MrAdventure', 'm', '(770) 555-2345', 'Juniper Lane', 4, '-', 'Leipzig', 2145, 'George.Perez@ecomail.com', '1979-02-18', 'qazwsx', 'Germany', '2018-10-13') ,\n",
      "(45, 'Paul', 'Edwards', 'FitnessFreak', 'm', '(619) 555-8765', 'Hawthorn Road', 96, '-', 'Dresden', 3870, 'Paul.Edwards@ecomail.com', '2001-10-04', 'shadow', 'Germany', '2019-06-10') ,\n",
      "(46, 'Brian', 'Collins', 'WiseGuru', 'm', '(415) 555-3456', 'Acacia Avenue', 87, '-', 'Hannover', 3242, 'Brian.Collins@ecomail.com', '2000-12-04', 'soccer', 'Germany', '2019-11-05') ,\n",
      "(12, 'Edward', 'Taylor', 'ChessMaster', 'm', '(202) 555-6789', 'Redwood Drive', 93, '-', 'Rome', 4358, 'Edward.Taylor@ecomail.com', '1969-07-29', 1234, 'Italy', '2021-01-22') ,\n",
      "(13, 'Christopher', 'Thomas', 'PokerKing', 'm', '(713) 555-5432', 'Laurel Lane', 51, '-', 'Milan', 2918, 'Christopher.Thomas@ecomail.com', '1969-04-21', 12345, 'Italy', '2017-10-18') ,\n",
      "(14, 'Kevin', 'Jackson', 'MovieBuff', 'm', '(602) 555-9012', 'Dogwood Street', 97, '-', 'Florence', 1072, 'Kevin.Jackson@ecomail.com', '1998-06-21', 'baseball', 'Italy', '2018-10-22') ,\n",
      "(15, 'Richard', 'Moore', 'MrFunnybone', 'm', '(305) 555-7890', 'Cedar Lane', 28, '-', 'Venice', 3442, 'Richard.Moore@ecomail.com', '1983-04-21', 'football', 'Italy', '2019-10-01') ,\n",
      "(37, 'Timothy', 'Roberts', 'CaptainMarvel', 'm', '(404) 555-2109', 'Olive Avenue', 56, '-', 'Naples', 1691, 'Timothy.Roberts@ecomail.com', '1962-07-31', 'asdfgh', 'Italy', '2019-09-20') ,\n",
      "(38, 'Mary', 'Campbell', 'QueenBee', 'f', '(503) 555-8765', 'Mulberry Road', 95, '-', 'Turin', 1888, 'Mary.Campbell@ecomail.com', '1984-04-09', 'batman', 'Italy', '2018-03-16') ,\n",
      "(39, 'Jennifer', 'Hall', 'Fashionista', 'f', '(770) 555-3210', 'Alder Street', 64, '-', 'Bologna', 2874, 'Jennifer.Hall@ecomail.com', '1977-07-17', 'hello', 'Italy', '2021-06-30') ,\n",
      "(40, 'Linda', 'Wright', 'GirlyGlam', 'f', '(619) 555-6543', 'Locust Lane', 93, '-', 'Palermo', 1319, 'Linda.Wright@ecomail.com', '1994-07-29', 'iloveyou', 'Italy', '2020-10-06') ,\n",
      "(5, 'Patricia', 'Jones', 'FlowerPower', 'f', '(415) 555-8901', 'Holly Avenue', 32, '-', 'Madrid', 3364, 'Patricia.Jones@ecomail.com', '1978-09-02', 111111, 'Spain', '2021-05-28') ,\n",
      "(6, 'Elizabeth', 'Smith', 'BeautyQueen', 'f', '(202) 555-1234', 'Beech Road', 62, '-', 'Barcelona', 2176, 'Elizabeth.Smith@ecomail.com', '1967-04-08', 123456, 'Spain', '2022-02-06') ,\n",
      "(7, 'Susan', 'Brown', 'LovelyLady', 'f', '(713) 555-3456', 'Elm Lane', 100, '-', 'Valencia', 1854, 'Susan.Brown@ecomail.com', '1976-11-30', 'abc123', 'Spain', '2022-10-12') ,\n",
      "(8, 'Jessica', 'Miller', 'ChicChick', 'f', '(602) 555-5678', 'Pine Street', 22, '-', 'Seville (Sevilla)', 2930, 'Jessica.Miller@ecomail.com', '1988-12-21', 'admin', 'Spain', '2022-03-16') ,\n",
      "(9, 'Sarah', 'Davis', 'SparklePrincess', 'f', '(305) 555-9012', 'Willow Avenue', 49, '-', 'Bilbao', 3154, 'Sarah.Davis@ecomail.com', '1998-05-09', 'letmein', 'Spain', '2019-05-30') ,\n",
      "(10, 'Karen', 'Johnson', 'MissSunshine', 'f', '(404) 555-6789', 'Maple Lane', 91, '-', 'Malaga', 2165, 'Karen.Johnson@ecomail.com', '1999-12-26', 'password', 'Spain', '2018-08-03') ,\n",
      "(11, 'Nancy', 'Williams', 'SweetHeart', 'f', '(503) 555-4321', 'Oak Road', 28, '-', 'Alicante', 4216, 'Nancy.Williams@ecomail.com', '2002-03-30', 'qwerty', 'Spain', '2020-12-24') ,\n",
      "(30, 'Lisa', 'Turner', 'DancingQueen', 'f', '(770) 555-9876', 'Walnut Lane', 86, '-', 'Zaragoza', 1776, 'Lisa.Turner@ecomail.com', '1986-12-03', 7777777, 'Spain', '2021-05-06') ,\n",
      "(31, 'Margaret', 'Cook', 'AngelicSoul', 'f', '(619) 555-2109', 'Birch Street', 65, '-', 'Granada', 5000, 'Margaret.Cook@ecomail.com', '1977-09-06', 11111111, 'Spain', '2018-03-08') ,\n",
      "(32, 'Emily', 'Adams', 'ClassyDiva', 'f', '(415) 555-6543', 'Cherry Avenue', 65, '-', 'Palma de Mallorca', 1833, 'Emily.Adams@ecomail.com', '1981-07-25', 987654321, 'Spain', '2020-05-31') ,\n",
      "(33, 'Kimberly', 'Stewart', 'StyleEnthusiast', 'f', '(202) 555-8765', 'Sycamore Lane', 84, '-', 'Murcia', 1218, 'Kimberly.Stewart@ecomail.com', '1993-12-24', 9876543210, 'Spain', '2021-06-30') ,\n",
      "(34, 'Angela', 'King', 'FashionDoll', 'f', '(713) 555-7890', 'Ash Road', 43, '-', 'Cordoba', 3733, 'Angela.King@ecomail.com', '1989-08-07', 12345678910, 'Spain', '2018-01-01') ,\n",
      "(35, 'Amanda', 'Hill', 'ElegantLady', 'f', '(602) 555-3210', 'Magnolia Street', 39, '-', 'Vigo', 1286, 'Amanda.Hill@ecomail.com', '1977-11-15', '1q2w3e4r', 'Spain', '2020-03-12') ,\n",
      "(36, 'Michelle', 'Mitchell', 'PrincessSparkle', 'f', '(305) 555-5678', 'Poplar Avenue', 2, '-', 'Ibiza', 2662, 'Michelle.Mitchell@ecomail.com', '1971-12-17', 'abcd1234', 'Spain', '2022-03-19') ,\n",
      "(1, 'Nicole', 'Gonzalez', 'GlamorousGirl', 'f', '(404) 555-8901', 'Cypress Lane', 100, '-', 'Zurich ', 3348, 'Nicole.Gonzalez@ecomail.com', '1980-02-06', 123123, 'Switzerland', '2021-10-09') ,\n",
      "(2, 'Melissa', 'Lopez', 'CreativeQueen', 'f', '(503) 555-1234', 'Chestnut Street', 84, '-', 'Geneva', 3398, 'Melissa.Lopez@ecomail.com', '1991-06-17', '123abc', 'Switzerland', '2020-06-15') ,\n",
      "(3, 'Stephanie', 'Wilson', 'GracefulGoddess', 'f', '(770) 555-3456', 'Spruce Avenue', 84, '-', 'Basel', 1753, 'Stephanie.Wilson@ecomail.com', '1964-08-28', 'monkey', 'Switzerland', '2019-10-06') ,\n",
      "(4, 'Laura', 'Anderson', 'PrettyInPink', 'f', '(619) 555-6789', 'Juniper Road', 98, '-', 'Lausanne', 2798, 'Laura.Anderson@ecomail.com', '1988-07-15', 'sunshine', 'Switzerland', '2021-06-15') ,\n",
      "(26, 'Rebecca', 'Green', 'EnchantingDreamer', 'f', '(415) 555-9012', 'Hawthorn Lane', 66, '-', 'Bern', 2062, 'Rebecca.Green@ecomail.com', '1998-02-25', 123, 'Switzerland', '2018-05-28') ,\n",
      "(27, 'Amy', 'Parker', 'DelicateFlower', 'f', '(202) 555-4321', 'Acacia Street', 68, '-', 'Lucerne', 4197, 'Amy.Parker@ecomail.com', '1960-05-27', 121212, 'Switzerland', '2017-12-18') ,\n",
      "(28, 'Samantha', 'Morris', 'FashionableFemme', 'f', '(713) 555-8765', 'Redwood Avenue', 54, '-', 'St. Gallen', 4773, 'Samantha.Morris@ecomail.com', '1979-03-11', 888888, 'Switzerland', '2020-02-09') ,\n",
      "(29, 'Danielle', 'Carter', 'EmpoweredWoman', 'f', '(602) 555-7890', 'Laurel Road', 28, '-', 'Lugano', 4567, 'Danielle.Carter@ecomail.com', '1988-06-05', 999999, 'Switzerland', '2020-10-14') ,\n"
     ]
    }
   ],
   "source": [
    "customer['text'] = customer.apply(lambda row: (row['cust_id'], row['firstname'], row['lastname'], row['username'], row['gender'], row['phone_number'],\n",
    "                                               row['street'], row['street_number'], row['compl_adr_info'], row['city'],\n",
    "                                               row['zip_code'], row['mail'], row['DOB'].strftime('%Y-%m-%d'), row['password'],\n",
    "                                               row['nationality'],row['member_since'].strftime('%Y-%m-%d')), axis=1)\n",
    "                                           \n",
    "for i in customer['text']:\n",
    "    print(i, ',')"
   ]
  },
  {
   "cell_type": "code",
   "execution_count": 34,
   "metadata": {},
   "outputs": [
    {
     "name": "stdout",
     "output_type": "stream",
     "text": [
      "(1, 'green_liv_focus') ,\n",
      "(2, 'agric_focus') ,\n",
      "(3, 'high_tech_focus') ,\n",
      "(4, 'renew_focus') ,\n",
      "(5, 'recycling') ,\n"
     ]
    }
   ],
   "source": [
    "focus['text'] = focus.apply(lambda row: (row['focus_id'], row['focus']), axis=1)\n",
    "                                           \n",
    "for i in focus['text']:\n",
    "    print(i, ',')"
   ]
  }
 ],
 "metadata": {
  "kernelspec": {
   "display_name": "Python 3",
   "language": "python",
   "name": "python3"
  },
  "language_info": {
   "codemirror_mode": {
    "name": "ipython",
    "version": 3
   },
   "file_extension": ".py",
   "mimetype": "text/x-python",
   "name": "python",
   "nbconvert_exporter": "python",
   "pygments_lexer": "ipython3",
   "version": "3.11.3"
  },
  "orig_nbformat": 4
 },
 "nbformat": 4,
 "nbformat_minor": 2
}
